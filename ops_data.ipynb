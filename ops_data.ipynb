{
 "cells": [
  {
   "cell_type": "code",
   "execution_count": 13,
   "metadata": {},
   "outputs": [],
   "source": [
    "import pandas as pd"
   ]
  },
  {
   "cell_type": "code",
   "execution_count": 14,
   "metadata": {},
   "outputs": [],
   "source": [
    "# Combine ops data and survey response data\n",
    "\n",
    "#load data\n",
    "ops_data = pd.read_csv('ops_data.csv', encoding='ISO-8859-1')\n",
    "survey_response = pd.read_csv('survey_response.csv', encoding='ISO-8859-1')\n",
    "\n",
    "combined_data = pd.merge(ops_data, survey_response, left_on =[\"FlightNum\", \"Departure Date\"], right_on =[\"FlightNumber\", \"ServiceStartDate\"])\n",
    "\n",
    "combined_data.to_csv('combined_data.csv', index = False)"
   ]
  },
  {
   "cell_type": "code",
   "execution_count": 19,
   "metadata": {},
   "outputs": [],
   "source": [
    "\n",
    "# Perform a left join and use an indicator to track the merge status\n",
    "merged_df = pd.merge(survey_response, ops_data, how='left', left_on=[\"FlightNumber\", \"ServiceStartDate\"], right_on=[\"FlightNum\", \"Departure Date\"], indicator=True)\n",
    "\n",
    "# Filter out the rows that did not have a match in df1\n",
    "no_match_df = merged_df[merged_df['_merge'] == 'left_only']\n",
    "\n",
    "# Drop the merge indicator column and columns from df1 to get back only df2's original columns\n",
    "no_match_df = no_match_df.drop(columns=[col for col in ops_data.columns if col in no_match_df.columns] + ['_merge'])\n",
    "\n",
    "# Save the result to a new CSV file\n",
    "no_match_df.to_csv('no_match_csv.csv', index=False)"
   ]
  }
 ],
 "metadata": {
  "kernelspec": {
   "display_name": "Python 3",
   "language": "python",
   "name": "python3"
  },
  "language_info": {
   "codemirror_mode": {
    "name": "ipython",
    "version": 3
   },
   "file_extension": ".py",
   "mimetype": "text/x-python",
   "name": "python",
   "nbconvert_exporter": "python",
   "pygments_lexer": "ipython3",
   "version": "3.11.8"
  }
 },
 "nbformat": 4,
 "nbformat_minor": 2
}
