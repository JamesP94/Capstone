{
 "cells": [
  {
   "cell_type": "code",
   "execution_count": 1,
   "metadata": {},
   "outputs": [],
   "source": [
    "import pandas as pd"
   ]
  },
  {
   "cell_type": "code",
   "execution_count": 60,
   "metadata": {},
   "outputs": [],
   "source": [
    "ops_data = pd.read_csv('ops_data.csv', encoding='ISO-8859-1')\n",
    "survey_response = pd.read_csv('survey_response.csv', encoding='ISO-8859-1')\n",
    "\n",
    "combined_data = pd.merge(ops_data, survey_response, left_on =[\"FlightNum\", \"Departure Date\", \"Origin\",\"Destination\"], right_on =[\"FlightNumber\", \"ServiceStartDate\",\"ServiceStartCity\",\"ServiceEndCity\"], indicator=True, how='inner')\n",
    "\n",
    "combined_data.to_csv('original_data_combine.csv', index = False)"
   ]
  },
  {
   "cell_type": "code",
   "execution_count": 62,
   "metadata": {},
   "outputs": [
    {
     "ename": "",
     "evalue": "",
     "output_type": "error",
     "traceback": [
      "\u001b[1;31mThe Kernel crashed while executing code in the current cell or a previous cell. \n",
      "\u001b[1;31mPlease review the code in the cell(s) to identify a possible cause of the failure. \n",
      "\u001b[1;31mClick <a href='https://aka.ms/vscodeJupyterKernelCrash'>here</a> for more info. \n",
      "\u001b[1;31mView Jupyter <a href='command:jupyter.viewOutput'>log</a> for further details."
     ]
    }
   ],
   "source": [
    "\n",
    "# Performing a left join to find unmatched rows in survey_response\n",
    "left_joined_data = pd.merge(survey_response, ops_data, \n",
    "                            left_on=[\"FlightNumber\", \"ServiceStartDate\", \"ServiceStartCity\", \"ServiceEndCity\"],\n",
    "                            right_on=[\"FlightNum\", \"Departure Date\", \"Origin\", \"Destination\"],\n",
    "                            how='left', indicator=True)\n",
    "\n",
    "# Filter the rows that are only in survey_response (did not join)\n",
    "unmatched_rows = left_joined_data[left_joined_data['_merge'] == 'left_only']\n",
    "\n",
    "# Optionally, drop the merge indicator column if it's no longer needed\n",
    "unmatched_rows = unmatched_rows.drop(columns=['_merge'])\n",
    "\n",
    "# You can now view or save these rows. Here's how to save them to a CSV file\n",
    "unmatched_rows.to_csv('unmatched_survey_response.csv', index=False)"
   ]
  },
  {
   "cell_type": "code",
   "execution_count": 61,
   "metadata": {},
   "outputs": [
    {
     "name": "stdout",
     "output_type": "stream",
     "text": [
      "Number of unique BookingID values: 67924\n"
     ]
    },
    {
     "name": "stderr",
     "output_type": "stream",
     "text": [
      "C:\\Users\\james\\AppData\\Local\\Temp\\ipykernel_27644\\1440581734.py:2: DtypeWarning: Columns (4) have mixed types. Specify dtype option on import or set low_memory=False.\n",
      "  combined_data = pd.read_csv('manipulated_data_combine.csv', encoding='ISO-8859-1')\n"
     ]
    }
   ],
   "source": [
    "# Reading the CSV file\n",
    "combined_data = pd.read_csv('manipulated_data_combine.csv', encoding='ISO-8859-1')\n",
    "\n",
    "# Counting the unique values in the \"BookingID\" column\n",
    "unique_booking_ids_count = combined_data['BookingID'].nunique()\n",
    "\n",
    "print(f\"Number of unique BookingID values: {unique_booking_ids_count}\")"
   ]
  }
 ],
 "metadata": {
  "kernelspec": {
   "display_name": "Python 3",
   "language": "python",
   "name": "python3"
  },
  "language_info": {
   "codemirror_mode": {
    "name": "ipython",
    "version": 3
   },
   "file_extension": ".py",
   "mimetype": "text/x-python",
   "name": "python",
   "nbconvert_exporter": "python",
   "pygments_lexer": "ipython3",
   "version": "3.11.8"
  }
 },
 "nbformat": 4,
 "nbformat_minor": 2
}
