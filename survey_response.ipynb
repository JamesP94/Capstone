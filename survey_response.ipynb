{
 "cells": [
  {
   "cell_type": "code",
   "execution_count": 1,
   "metadata": {},
   "outputs": [],
   "source": [
    "import pandas as pd"
   ]
  },
  {
   "cell_type": "code",
   "execution_count": 3,
   "metadata": {},
   "outputs": [],
   "source": [
    "survey_response = pd.read_csv('survey_response.csv', encoding='ISO-8859-1')"
   ]
  },
  {
   "cell_type": "code",
   "execution_count": 7,
   "metadata": {},
   "outputs": [
    {
     "name": "stdout",
     "output_type": "stream",
     "text": [
      "   BookingID RecordLocator  FlightNumber ServiceStartCity ServiceEndCity  \\\n",
      "0   55028637        V1Y8WB           101              MSP            LAS   \n",
      "1   55037389        D4WKJP           101              MSP            LAS   \n",
      "2   55243312        A5MRNM           101              MSP            LAS   \n",
      "3   55116046        DCLM4E           291              MSP            PDX   \n",
      "4   55249603        L6D6MM           291              MSP            PDX   \n",
      "\n",
      "  City Pair ServiceStartDate  score  \\\n",
      "0   MSP-LAS         1/1/2023      3   \n",
      "1   MSP-LAS         1/1/2023      2   \n",
      "2   MSP-LAS         1/1/2023      2   \n",
      "3   MSP-PDX         1/1/2023      3   \n",
      "4   MSP-PDX         1/1/2023      4   \n",
      "\n",
      "                                             comment  \n",
      "0  Customer service is lacking when trying to mak...  \n",
      "1  There seems to always be a delay or a cancella...  \n",
      "2                                     Delayed flight  \n",
      "3  stop making people pay to pick a seat and carr...  \n",
      "4  Great fares, friendly attendants.  Gate attend...  \n",
      "       BookingID RecordLocator  FlightNumber ServiceStartCity ServiceEndCity  \\\n",
      "68705   56889043        K4M5VS           290              SEA            MSP   \n",
      "68706   57215980        PB6GYA           290              SEA            MSP   \n",
      "68707   57075125        UYSQ3N           398              SFO            MSP   \n",
      "68708   57267486        A23IHI           398              SFO            MSP   \n",
      "68709   57332226        J9P37A           398              SFO            MSP   \n",
      "\n",
      "      City Pair ServiceStartDate  score  \\\n",
      "68705   SEA-MSP       12/31/2023      4   \n",
      "68706   SEA-MSP       12/31/2023      5   \n",
      "68707   SFO-MSP       12/31/2023      1   \n",
      "68708   SFO-MSP       12/31/2023      4   \n",
      "68709   SFO-MSP       12/31/2023      1   \n",
      "\n",
      "                                                 comment  \n",
      "68705              you dont go to seattle in Jan and Feb  \n",
      "68706             Fatima, Dayna and Taylor were awesome!  \n",
      "68707  On our return flight home from San Francisco. ...  \n",
      "68708                               Everything went well  \n",
      "68709  The seat was extremely uncomfortable, to top i...  \n"
     ]
    }
   ],
   "source": [
    "print(survey_response.head())\n",
    "\n",
    "print(survey_response.tail())"
   ]
  },
  {
   "cell_type": "code",
   "execution_count": 6,
   "metadata": {},
   "outputs": [
    {
     "name": "stdout",
     "output_type": "stream",
     "text": [
      "Start City Counts:\n",
      "ServiceStartCity\n",
      "MSP    18812\n",
      "RSW     5331\n",
      "LAS     4847\n",
      "PHX     4703\n",
      "MCO     3979\n",
      "       ...  \n",
      "SLC        1\n",
      "CHS        1\n",
      "BDL        1\n",
      "BTV        1\n",
      "GPT        1\n",
      "Name: count, Length: 97, dtype: int64\n",
      "\n",
      "End City Counts:\n",
      "ServiceEndCity\n",
      "MSP    44844\n",
      "RSW     2570\n",
      "PHX     2023\n",
      "MCO     1472\n",
      "LAX     1256\n",
      "       ...  \n",
      "CHS        1\n",
      "BDL        1\n",
      "SLC        1\n",
      "SDF        1\n",
      "BKG        1\n",
      "Name: count, Length: 88, dtype: int64\n"
     ]
    }
   ],
   "source": [
    "# Count of unique values in 'ServiceStartCity'\n",
    "start_city_counts = survey_response['ServiceStartCity'].value_counts()\n",
    "\n",
    "# Count of unique values in 'ServiceEndCity'\n",
    "end_city_counts = survey_response['ServiceEndCity'].value_counts()\n",
    "\n",
    "# If you want to print or view the counts\n",
    "print(\"Start City Counts:\")\n",
    "print(start_city_counts)\n",
    "print(\"\\nEnd City Counts:\")\n",
    "print(end_city_counts)"
   ]
  },
  {
   "cell_type": "code",
   "execution_count": null,
   "metadata": {},
   "outputs": [],
   "source": []
  }
 ],
 "metadata": {
  "kernelspec": {
   "display_name": "Python 3",
   "language": "python",
   "name": "python3"
  },
  "language_info": {
   "codemirror_mode": {
    "name": "ipython",
    "version": 3
   },
   "file_extension": ".py",
   "mimetype": "text/x-python",
   "name": "python",
   "nbconvert_exporter": "python",
   "pygments_lexer": "ipython3",
   "version": "3.11.7"
  }
 },
 "nbformat": 4,
 "nbformat_minor": 2
}
