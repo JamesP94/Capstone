{
 "cells": [
  {
   "cell_type": "code",
   "execution_count": 2,
   "metadata": {},
   "outputs": [],
   "source": [
    "import pandas as pd"
   ]
  },
  {
   "cell_type": "code",
   "execution_count": 5,
   "metadata": {},
   "outputs": [],
   "source": [
    "survey_data = pd.read_csv('survey_data.csv')"
   ]
  },
  {
   "cell_type": "code",
   "execution_count": 4,
   "metadata": {},
   "outputs": [
    {
     "name": "stdout",
     "output_type": "stream",
     "text": [
      "       Date  5 Star  4 Star  3  Star  2 Star  1 Star   Sent Delivered  Opens  \\\n",
      "0  1/1/2023     264     174       55      36      64  4,076     4,041  2,390   \n",
      "1  1/2/2023     269     182      113      71      93  5,069     5,017  2,980   \n",
      "2  1/3/2023     245     147       73      42      54  4,588     4,530  2,644   \n",
      "3  1/4/2023      89      46       20       9      15  1,118     1,102    692   \n",
      "4  1/5/2023      67      52       23       9      11  1,162     1,147    700   \n",
      "\n",
      "  Clicks Open Rate Click Rate Notes  \n",
      "0    579    59.14%     14.33%   NaN  \n",
      "1    710    59.40%     14.15%   NaN  \n",
      "2    543    58.37%     11.99%   NaN  \n",
      "3    172    62.79%     15.61%   NaN  \n",
      "4    158    61.03%     13.78%   NaN  \n"
     ]
    }
   ],
   "source": [
    "print(survey_data.head(5))"
   ]
  },
  {
   "cell_type": "code",
   "execution_count": 8,
   "metadata": {},
   "outputs": [],
   "source": [
    "columns_to_sum = ['5 Star', '4 Star', '3  Star', '2 Star', '1 Star']\n",
    "\n",
    "survey_data['total_responses'] = survey_data[columns_to_sum].sum(axis=1)"
   ]
  },
  {
   "cell_type": "code",
   "execution_count": 11,
   "metadata": {},
   "outputs": [
    {
     "name": "stdout",
     "output_type": "stream",
     "text": [
      "count    365.000000\n",
      "mean     329.641096\n",
      "std      162.008157\n",
      "min        0.000000\n",
      "25%      205.000000\n",
      "50%      291.000000\n",
      "75%      452.000000\n",
      "max      790.000000\n",
      "Name: total_responses, dtype: float64\n"
     ]
    }
   ],
   "source": [
    "descriptive_stats = survey_data['total_responses'].describe()\n",
    "\n",
    "print(descriptive_stats)"
   ]
  },
  {
   "cell_type": "code",
   "execution_count": 15,
   "metadata": {},
   "outputs": [],
   "source": [
    "survey_data['perc_star_1'] = (survey_data['1 Star'] / survey_data['total_responses']) * 100\n",
    "survey_data['perc_star_2'] = (survey_data['2 Star'] / survey_data['total_responses']) * 100\n",
    "survey_data['perc_star_3'] = (survey_data['3  Star'] / survey_data['total_responses']) * 100\n",
    "survey_data['perc_star_4'] = (survey_data['4 Star'] / survey_data['total_responses']) * 100\n",
    "survey_data['perc_star_5'] = (survey_data['5 Star'] / survey_data['total_responses']) * 100"
   ]
  },
  {
   "cell_type": "code",
   "execution_count": 16,
   "metadata": {},
   "outputs": [
    {
     "data": {
      "text/html": [
       "<div>\n",
       "<style scoped>\n",
       "    .dataframe tbody tr th:only-of-type {\n",
       "        vertical-align: middle;\n",
       "    }\n",
       "\n",
       "    .dataframe tbody tr th {\n",
       "        vertical-align: top;\n",
       "    }\n",
       "\n",
       "    .dataframe thead th {\n",
       "        text-align: right;\n",
       "    }\n",
       "</style>\n",
       "<table border=\"1\" class=\"dataframe\">\n",
       "  <thead>\n",
       "    <tr style=\"text-align: right;\">\n",
       "      <th></th>\n",
       "      <th>Date</th>\n",
       "      <th>5 Star</th>\n",
       "      <th>4 Star</th>\n",
       "      <th>3  Star</th>\n",
       "      <th>2 Star</th>\n",
       "      <th>1 Star</th>\n",
       "      <th>Sent</th>\n",
       "      <th>Delivered</th>\n",
       "      <th>Opens</th>\n",
       "      <th>Clicks</th>\n",
       "      <th>Open Rate</th>\n",
       "      <th>Click Rate</th>\n",
       "      <th>Notes</th>\n",
       "      <th>total_responses</th>\n",
       "      <th>perc_star_1</th>\n",
       "      <th>perc_star_2</th>\n",
       "      <th>perc_star_3</th>\n",
       "      <th>perc_star_4</th>\n",
       "      <th>perc_star_5</th>\n",
       "    </tr>\n",
       "  </thead>\n",
       "  <tbody>\n",
       "    <tr>\n",
       "      <th>0</th>\n",
       "      <td>1/1/2023</td>\n",
       "      <td>264</td>\n",
       "      <td>174</td>\n",
       "      <td>55</td>\n",
       "      <td>36</td>\n",
       "      <td>64</td>\n",
       "      <td>4,076</td>\n",
       "      <td>4,041</td>\n",
       "      <td>2,390</td>\n",
       "      <td>579</td>\n",
       "      <td>59.14%</td>\n",
       "      <td>14.33%</td>\n",
       "      <td>NaN</td>\n",
       "      <td>593</td>\n",
       "      <td>10.792580</td>\n",
       "      <td>6.070826</td>\n",
       "      <td>9.274874</td>\n",
       "      <td>29.342327</td>\n",
       "      <td>44.519393</td>\n",
       "    </tr>\n",
       "    <tr>\n",
       "      <th>1</th>\n",
       "      <td>1/2/2023</td>\n",
       "      <td>269</td>\n",
       "      <td>182</td>\n",
       "      <td>113</td>\n",
       "      <td>71</td>\n",
       "      <td>93</td>\n",
       "      <td>5,069</td>\n",
       "      <td>5,017</td>\n",
       "      <td>2,980</td>\n",
       "      <td>710</td>\n",
       "      <td>59.40%</td>\n",
       "      <td>14.15%</td>\n",
       "      <td>NaN</td>\n",
       "      <td>728</td>\n",
       "      <td>12.774725</td>\n",
       "      <td>9.752747</td>\n",
       "      <td>15.521978</td>\n",
       "      <td>25.000000</td>\n",
       "      <td>36.950549</td>\n",
       "    </tr>\n",
       "    <tr>\n",
       "      <th>2</th>\n",
       "      <td>1/3/2023</td>\n",
       "      <td>245</td>\n",
       "      <td>147</td>\n",
       "      <td>73</td>\n",
       "      <td>42</td>\n",
       "      <td>54</td>\n",
       "      <td>4,588</td>\n",
       "      <td>4,530</td>\n",
       "      <td>2,644</td>\n",
       "      <td>543</td>\n",
       "      <td>58.37%</td>\n",
       "      <td>11.99%</td>\n",
       "      <td>NaN</td>\n",
       "      <td>561</td>\n",
       "      <td>9.625668</td>\n",
       "      <td>7.486631</td>\n",
       "      <td>13.012478</td>\n",
       "      <td>26.203209</td>\n",
       "      <td>43.672014</td>\n",
       "    </tr>\n",
       "    <tr>\n",
       "      <th>3</th>\n",
       "      <td>1/4/2023</td>\n",
       "      <td>89</td>\n",
       "      <td>46</td>\n",
       "      <td>20</td>\n",
       "      <td>9</td>\n",
       "      <td>15</td>\n",
       "      <td>1,118</td>\n",
       "      <td>1,102</td>\n",
       "      <td>692</td>\n",
       "      <td>172</td>\n",
       "      <td>62.79%</td>\n",
       "      <td>15.61%</td>\n",
       "      <td>NaN</td>\n",
       "      <td>179</td>\n",
       "      <td>8.379888</td>\n",
       "      <td>5.027933</td>\n",
       "      <td>11.173184</td>\n",
       "      <td>25.698324</td>\n",
       "      <td>49.720670</td>\n",
       "    </tr>\n",
       "    <tr>\n",
       "      <th>4</th>\n",
       "      <td>1/5/2023</td>\n",
       "      <td>67</td>\n",
       "      <td>52</td>\n",
       "      <td>23</td>\n",
       "      <td>9</td>\n",
       "      <td>11</td>\n",
       "      <td>1,162</td>\n",
       "      <td>1,147</td>\n",
       "      <td>700</td>\n",
       "      <td>158</td>\n",
       "      <td>61.03%</td>\n",
       "      <td>13.78%</td>\n",
       "      <td>NaN</td>\n",
       "      <td>162</td>\n",
       "      <td>6.790123</td>\n",
       "      <td>5.555556</td>\n",
       "      <td>14.197531</td>\n",
       "      <td>32.098765</td>\n",
       "      <td>41.358025</td>\n",
       "    </tr>\n",
       "  </tbody>\n",
       "</table>\n",
       "</div>"
      ],
      "text/plain": [
       "       Date  5 Star  4 Star  3  Star  2 Star  1 Star   Sent Delivered  Opens  \\\n",
       "0  1/1/2023     264     174       55      36      64  4,076     4,041  2,390   \n",
       "1  1/2/2023     269     182      113      71      93  5,069     5,017  2,980   \n",
       "2  1/3/2023     245     147       73      42      54  4,588     4,530  2,644   \n",
       "3  1/4/2023      89      46       20       9      15  1,118     1,102    692   \n",
       "4  1/5/2023      67      52       23       9      11  1,162     1,147    700   \n",
       "\n",
       "  Clicks Open Rate Click Rate Notes  total_responses  perc_star_1  \\\n",
       "0    579    59.14%     14.33%   NaN              593    10.792580   \n",
       "1    710    59.40%     14.15%   NaN              728    12.774725   \n",
       "2    543    58.37%     11.99%   NaN              561     9.625668   \n",
       "3    172    62.79%     15.61%   NaN              179     8.379888   \n",
       "4    158    61.03%     13.78%   NaN              162     6.790123   \n",
       "\n",
       "   perc_star_2  perc_star_3  perc_star_4  perc_star_5  \n",
       "0     6.070826     9.274874    29.342327    44.519393  \n",
       "1     9.752747    15.521978    25.000000    36.950549  \n",
       "2     7.486631    13.012478    26.203209    43.672014  \n",
       "3     5.027933    11.173184    25.698324    49.720670  \n",
       "4     5.555556    14.197531    32.098765    41.358025  "
      ]
     },
     "execution_count": 16,
     "metadata": {},
     "output_type": "execute_result"
    }
   ],
   "source": [
    "survey_data.head(5)"
   ]
  }
 ],
 "metadata": {
  "kernelspec": {
   "display_name": "Python 3",
   "language": "python",
   "name": "python3"
  },
  "language_info": {
   "codemirror_mode": {
    "name": "ipython",
    "version": 3
   },
   "file_extension": ".py",
   "mimetype": "text/x-python",
   "name": "python",
   "nbconvert_exporter": "python",
   "pygments_lexer": "ipython3",
   "version": "3.11.7"
  }
 },
 "nbformat": 4,
 "nbformat_minor": 2
}
