{
 "cells": [
  {
   "cell_type": "code",
   "execution_count": 2,
   "metadata": {},
   "outputs": [],
   "source": [
    "import pandas as pd"
   ]
  },
  {
   "cell_type": "code",
   "execution_count": 3,
   "metadata": {},
   "outputs": [],
   "source": [
    "file_path = 'survey_data.csv'\n",
    "survey_data = pd.read_csv(file_path)"
   ]
  },
  {
   "cell_type": "code",
   "execution_count": 4,
   "metadata": {},
   "outputs": [
    {
     "name": "stdout",
     "output_type": "stream",
     "text": [
      "       Date  5 Star  4 Star  3  Star  2 Star  1 Star   Sent Delivered  Opens  \\\n",
      "0  1/1/2023     264     174       55      36      64  4,076     4,041  2,390   \n",
      "1  1/2/2023     269     182      113      71      93  5,069     5,017  2,980   \n",
      "2  1/3/2023     245     147       73      42      54  4,588     4,530  2,644   \n",
      "3  1/4/2023      89      46       20       9      15  1,118     1,102    692   \n",
      "4  1/5/2023      67      52       23       9      11  1,162     1,147    700   \n",
      "\n",
      "  Clicks Open Rate Click Rate Notes  \n",
      "0    579    59.14%     14.33%   NaN  \n",
      "1    710    59.40%     14.15%   NaN  \n",
      "2    543    58.37%     11.99%   NaN  \n",
      "3    172    62.79%     15.61%   NaN  \n",
      "4    158    61.03%     13.78%   NaN  \n"
     ]
    }
   ],
   "source": [
    "print(survey_data.head(5))"
   ]
  },
  {
   "cell_type": "code",
   "execution_count": null,
   "metadata": {},
   "outputs": [],
   "source": []
  }
 ],
 "metadata": {
  "kernelspec": {
   "display_name": "Python 3",
   "language": "python",
   "name": "python3"
  },
  "language_info": {
   "codemirror_mode": {
    "name": "ipython",
    "version": 3
   },
   "file_extension": ".py",
   "mimetype": "text/x-python",
   "name": "python",
   "nbconvert_exporter": "python",
   "pygments_lexer": "ipython3",
   "version": "3.11.7"
  }
 },
 "nbformat": 4,
 "nbformat_minor": 2
}
